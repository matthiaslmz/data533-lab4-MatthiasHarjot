{
 "cells": [
  {
   "cell_type": "code",
   "execution_count": 1,
   "metadata": {},
   "outputs": [],
   "source": [
    "from OurBusiness.People import Staff\n",
    "from OurBusiness.People import Customer \n"
   ]
  },
  {
   "cell_type": "code",
   "execution_count": 2,
   "metadata": {},
   "outputs": [],
   "source": [
    "O = Staff.Owner('Bill', 'Nye', 1)\n",
    "M1 = Staff.Manager('Jill', 'Volley', 2, [4,5], ['Shift 1', 'Shift 5', 'Shift 6'])\n",
    "M2 = Staff.Manager('John', 'Doe', 3, [6,7], ['Shift 2', 'Shift 3', 'Shift 4'])\n",
    "E1 = Staff.OtherEmployee('Chris', \"Cross\", 4, 2, ['Shift 1', 'Shift 5', 'Shift 6'])\n",
    "E2 = Staff.OtherEmployee('Zed', 'Why', 5, 2, ['Shift 1', 'Shift 5'])\n",
    "E3 = Staff.OtherEmployee('Mouse', 'Keyboard', 6, 3, ['Shift 2', 'Shift 3', 'Shift 4'])\n",
    "E4 = Staff.OtherEmployee('Wired', 'Keyboard', 7, 3, ['Shift 2', 'Shift 3'])"
   ]
  },
  {
   "cell_type": "code",
   "execution_count": 3,
   "metadata": {},
   "outputs": [
    {
     "name": "stdout",
     "output_type": "stream",
     "text": [
      "Bill\n",
      "Nye\n",
      "1\n",
      "Jill\n",
      "Volley\n",
      "2\n",
      "['Shift 1', 'Shift 5', 'Shift 6']\n",
      "Doe\n"
     ]
    }
   ],
   "source": [
    "print(O.firstName)\n",
    "print(O.lastName)\n",
    "print(O.employeeID)\n",
    "print(M1.firstName)\n",
    "print(M1.lastName)\n",
    "print(M1.employeeID)\n",
    "print(M1.shifts)\n",
    "print(M2.lastName)\n"
   ]
  },
  {
   "cell_type": "code",
   "execution_count": 4,
   "metadata": {},
   "outputs": [
    {
     "name": "stdout",
     "output_type": "stream",
     "text": [
      "['Shift 1', 'Shift 5']\n",
      "['Shift 1', 'Shift 5', 'Shift 6']\n",
      "['Shift 2', 'Shift 3']\n",
      "['Shift 2', 'Shift 3', 'Shift 4']\n"
     ]
    }
   ],
   "source": [
    "print(E2.shifts)\n",
    "E2.addShift('Shift 6')\n",
    "print(E2.shifts)\n",
    "\n",
    "print(E4.shifts)\n",
    "E4.addShift('Shift 4')\n",
    "print(E4.shifts)"
   ]
  },
  {
   "cell_type": "code",
   "execution_count": 5,
   "metadata": {},
   "outputs": [
    {
     "name": "stdout",
     "output_type": "stream",
     "text": [
      "123\n",
      "hollyjolly@jolly.ca\n"
     ]
    }
   ],
   "source": [
    "C1 = Customer.Customer('holly', 'jolly', 123, 'hollyjolly@jolly.ca')\n",
    "C2 = Customer.Customer('noway', 'jose', 124, 'jose@jose.ca')\n",
    "print(C1.customerID)\n",
    "print(C1.email)"
   ]
  },
  {
   "cell_type": "code",
   "execution_count": 6,
   "metadata": {},
   "outputs": [
    {
     "data": {
      "text/plain": [
       "['hollyjolly@jolly.ca', 'jose@jose.ca']"
      ]
     },
     "execution_count": 6,
     "metadata": {},
     "output_type": "execute_result"
    }
   ],
   "source": [
    "Customer.allEmails()"
   ]
  },
  {
   "cell_type": "code",
   "execution_count": null,
   "metadata": {},
   "outputs": [],
   "source": []
  }
 ],
 "metadata": {
  "kernelspec": {
   "display_name": "Python 3",
   "language": "python",
   "name": "python3"
  },
  "language_info": {
   "codemirror_mode": {
    "name": "ipython",
    "version": 3
   },
   "file_extension": ".py",
   "mimetype": "text/x-python",
   "name": "python",
   "nbconvert_exporter": "python",
   "pygments_lexer": "ipython3",
   "version": "3.6.5"
  }
 },
 "nbformat": 4,
 "nbformat_minor": 2
}
