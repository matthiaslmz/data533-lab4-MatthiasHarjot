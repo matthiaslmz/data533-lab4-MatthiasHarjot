{
 "cells": [
  {
   "cell_type": "code",
   "execution_count": 1,
   "metadata": {},
   "outputs": [],
   "source": [
    "from OurBusiness.Finances import Expenses\n",
    "from OurBusiness.Finances import Sales"
   ]
  },
  {
   "cell_type": "code",
   "execution_count": 2,
   "metadata": {},
   "outputs": [
    {
     "name": "stdout",
     "output_type": "stream",
     "text": [
      "printer 69.69 11-28-2018 1\n",
      "dog 1750.0 11-27-2018 2\n"
     ]
    }
   ],
   "source": [
    "EXP1 = Expenses.Expense('printer',69.69,'11-28-2018','1')\n",
    "EXP2 = Expenses.Expense('dog',1750.00,'11-27-2018','2')\n",
    "print(EXP1.name, EXP1.cost, EXP1.expenseDate, EXP1.employeeID)\n",
    "print(EXP2.name, EXP2.cost, EXP2.expenseDate, EXP2.employeeID)"
   ]
  },
  {
   "cell_type": "code",
   "execution_count": 3,
   "metadata": {},
   "outputs": [
    {
     "data": {
      "text/plain": [
       "1819.69"
      ]
     },
     "execution_count": 3,
     "metadata": {},
     "output_type": "execute_result"
    }
   ],
   "source": [
    "Expenses.totalExpenses()"
   ]
  },
  {
   "cell_type": "code",
   "execution_count": 4,
   "metadata": {},
   "outputs": [],
   "source": [
    "S1 = Sales.Sale('rooibus tea latte',5.67,'11-28-2018',1,123)\n",
    "S2 = Sales.Sale('americano',3.50,'11-27-2018',5,123)"
   ]
  },
  {
   "cell_type": "code",
   "execution_count": 5,
   "metadata": {},
   "outputs": [
    {
     "data": {
      "text/plain": [
       "9.17"
      ]
     },
     "execution_count": 5,
     "metadata": {},
     "output_type": "execute_result"
    }
   ],
   "source": [
    "Sales.totalSales()"
   ]
  },
  {
   "cell_type": "code",
   "execution_count": null,
   "metadata": {},
   "outputs": [],
   "source": []
  }
 ],
 "metadata": {
  "kernelspec": {
   "display_name": "Python 3",
   "language": "python",
   "name": "python3"
  },
  "language_info": {
   "codemirror_mode": {
    "name": "ipython",
    "version": 3
   },
   "file_extension": ".py",
   "mimetype": "text/x-python",
   "name": "python",
   "nbconvert_exporter": "python",
   "pygments_lexer": "ipython3",
   "version": "3.6.6"
  }
 },
 "nbformat": 4,
 "nbformat_minor": 2
}
